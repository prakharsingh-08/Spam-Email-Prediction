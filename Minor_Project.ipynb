{
  "cells": [
    {
      "cell_type": "code",
      "execution_count": null,
      "metadata": {
        "id": "vg7D9M6mEUnN",
        "colab": {
          "base_uri": "https://localhost:8080/"
        },
        "outputId": "6f398a6c-e69a-40df-d28c-e537f5948185"
      },
      "outputs": [
        {
          "name": "stdout",
          "output_type": "stream",
          "text": [
            "Enter the choice for the dataset number:1\n"
          ]
        },
        {
          "output_type": "stream",
          "name": "stderr",
          "text": [
            "/usr/local/lib/python3.10/dist-packages/sklearn/model_selection/_search.py:305: UserWarning: The total space of parameters 8 is smaller than n_iter=10. Running 8 iterations. For exhaustive searches, use GridSearchCV.\n",
            "  warnings.warn(\n"
          ]
        },
        {
          "output_type": "stream",
          "name": "stdout",
          "text": [
            "The Results for the 1st Data Set:\n",
            "Best Hyperparameters:  {'fit_prior': False, 'alpha': 1.0}\n",
            "Train Accuracy:  0.9879110251450677\n",
            "Test Accuracy:  0.9758454106280193\n"
          ]
        }
      ],
      "source": [
        "# Import necessary libraries\n",
        "import pandas as pd\n",
        "from sklearn.model_selection import train_test_split\n",
        "from sklearn.feature_extraction.text import CountVectorizer\n",
        "from sklearn.naive_bayes import MultinomialNB\n",
        "from sklearn.model_selection import RandomizedSearchCV\n",
        "from sklearn.feature_extraction.text import TfidfVectorizer\n",
        "from sklearn.metrics import accuracy_score\n",
        "\n",
        "choice = int(input(\"Enter the choice for the dataset number:\"))\n",
        "if(choice==1):\n",
        "   # Load data\n",
        "   # Assuming you have a CSV file named 'spam_dataset.csv' with two columns - 'text' and 'label'\n",
        "   data = pd.read_csv('/content/spam_ham_dataset.csv')\n",
        "\n",
        "   # Split data into features (X) and labels (y)\n",
        "   X = data['text']\n",
        "   y = data['label']\n",
        "\n",
        "   # Convert labels to binary values\n",
        "   y = y.map({'spam': 1, 'ham': 0})\n",
        "\n",
        "   # Split data into train and test sets\n",
        "   X_train, X_test, y_train, y_test = train_test_split(X, y, test_size=0.2, random_state=42)\n",
        "\n",
        "   # Create a CountVectorizer to convert text data into numerical features\n",
        "   vectorizer = CountVectorizer()\n",
        "   X_train_vec = vectorizer.fit_transform(X_train)\n",
        "   X_test_vec = vectorizer.transform(X_test)\n",
        "\n",
        "   # Create a Multinomial Naive Bayes classifier\n",
        "   clf = MultinomialNB()\n",
        "\n",
        "   # Define hyperparameter search space\n",
        "   param_dist = {'alpha': [0.1, 0.5, 1.0, 2.0],'fit_prior': [True, False]}\n",
        "\n",
        "   # Create RandomizedSearchCV object\n",
        "   random_search = RandomizedSearchCV(clf, param_distributions=param_dist, n_iter=10, cv=5, random_state=42)\n",
        "\n",
        "   # Fit the model using RandomizedSearchCV\n",
        "   random_search.fit(X_train_vec, y_train)\n",
        "\n",
        "   # Get the best hyperparameters\n",
        "   best_params = random_search.best_params_\n",
        "\n",
        "   # Train the model with best hyperparameters\n",
        "   best_clf = MultinomialNB(alpha=best_params['alpha'], fit_prior=best_params['fit_prior'])\n",
        "   best_clf.fit(X_train_vec, y_train)\n",
        "\n",
        "   # Evaluate the model\n",
        "   train_accuracy = best_clf.score(X_train_vec, y_train)\n",
        "   test_accuracy = best_clf.score(X_test_vec, y_test)\n",
        "\n",
        "   # Print results\n",
        "   print(\"The Results for the 1st Data Set:\")\n",
        "   print(\"Best Hyperparameters: \", best_params)\n",
        "   print(\"Train Accuracy: \", train_accuracy)\n",
        "   print(\"Test Accuracy: \", test_accuracy)\n",
        "\n",
        "\n",
        "elif(choice==2):\n",
        "   # Load data\n",
        "   # Assuming you have a CSV file named 'spam_dataset.csv' with two columns - 'text' and 'label'\n",
        "   data = pd.read_csv('/content/mail_data.csv',encoding= 'unicode_escape')\n",
        "\n",
        "   # Split data into features (X) and labels (y)\n",
        "   X = data['text']\n",
        "   y = data['label']\n",
        "\n",
        "   # Convert labels to binary values\n",
        "   y = y.map({'spam': 1, 'ham': 0})\n",
        "\n",
        "   # Split data into train and test sets\n",
        "   X_train, X_test, y_train, y_test = train_test_split(X, y, test_size=0.2, random_state=42)\n",
        "\n",
        "   # Create a CountVectorizer to convert text data into numerical features\n",
        "   vectorizer = CountVectorizer()\n",
        "   X_train_vec = vectorizer.fit_transform(X_train)\n",
        "   X_test_vec = vectorizer.transform(X_test)\n",
        "\n",
        "   # Create a Multinomial Naive Bayes classifier\n",
        "   clf = MultinomialNB()\n",
        "\n",
        "   # Define hyperparameter search space\n",
        "   param_dist = {'alpha': [0.1, 0.5, 1.0, 2.0],'fit_prior': [True, False]}\n",
        "\n",
        "   # Create RandomizedSearchCV object\n",
        "   random_search = RandomizedSearchCV(clf, param_distributions=param_dist, n_iter=10, cv=5, random_state=42)\n",
        "\n",
        "   # Fit the model using RandomizedSearchCV\n",
        "   random_search.fit(X_train_vec, y_train)\n",
        "\n",
        "   # Get the best hyperparameters\n",
        "   best_params = random_search.best_params_\n",
        "\n",
        "   # Train the model with best hyperparameters\n",
        "   best_clf = MultinomialNB(alpha=best_params['alpha'], fit_prior=best_params['fit_prior'])\n",
        "   best_clf.fit(X_train_vec, y_train)\n",
        "\n",
        "   # Evaluate the model\n",
        "   train_accuracy = best_clf.score(X_train_vec, y_train)\n",
        "   test_accuracy = best_clf.score(X_test_vec, y_test)\n",
        "\n",
        "   # Print results\n",
        "   print(\"The Results for the 2nd Data Set:\")\n",
        "   print(\"Best Hyperparameters: \", best_params)\n",
        "   print(\"Train Accuracy: \", train_accuracy)\n",
        "   print(\"Test Accuracy: \", test_accuracy)"
      ]
    },
    {
      "cell_type": "code",
      "source": [],
      "metadata": {
        "id": "aA2SZwrdw-4X"
      },
      "execution_count": null,
      "outputs": []
    }
  ],
  "metadata": {
    "colab": {
      "provenance": []
    },
    "kernelspec": {
      "display_name": "Python 3",
      "name": "python3"
    },
    "language_info": {
      "name": "python"
    }
  },
  "nbformat": 4,
  "nbformat_minor": 0
}